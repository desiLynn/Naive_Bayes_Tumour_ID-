{
  "nbformat": 4,
  "nbformat_minor": 0,
  "metadata": {
    "colab": {
      "name": "hw3.ipynb",
      "provenance": []
    },
    "kernelspec": {
      "name": "python3",
      "display_name": "Python 3"
    }
  },
  "cells": [
    {
      "cell_type": "code",
      "metadata": {
        "colab": {
          "base_uri": "https://localhost:8080/"
        },
        "id": "yiAQajAeKtbW",
        "outputId": "5f2d3b84-2bb6-4d11-e482-f73302533c76"
      },
      "source": [
        "from google.colab import drive\n",
        "drive.mount('/content/gdrive')"
      ],
      "execution_count": null,
      "outputs": [
        {
          "output_type": "stream",
          "text": [
            "Drive already mounted at /content/gdrive; to attempt to forcibly remount, call drive.mount(\"/content/gdrive\", force_remount=True).\n"
          ],
          "name": "stdout"
        }
      ]
    },
    {
      "cell_type": "code",
      "metadata": {
        "colab": {
          "base_uri": "https://localhost:8080/"
        },
        "id": "JIuqszQGKzoH",
        "outputId": "4a252448-28e9-4aca-d247-693b261322f5"
      },
      "source": [
        "import os\n",
        "os.environ['KAGGLE_CONFIG_DIR'] = \"/content/gdrive/My Drive/Colab Notebooks/Kaggle\"\n",
        "\n",
        "import os\n",
        "%cd \"/content/gdrive/My Drive/Colab Notebooks/Kaggle\""
      ],
      "execution_count": null,
      "outputs": [
        {
          "output_type": "stream",
          "text": [
            "/content/gdrive/My Drive/Colab Notebooks/Kaggle\n"
          ],
          "name": "stdout"
        }
      ]
    },
    {
      "cell_type": "code",
      "metadata": {
        "colab": {
          "base_uri": "https://localhost:8080/"
        },
        "id": "DSDmoy6oK5xK",
        "outputId": "2f53b046-391d-40d2-8681-e9a4745377ac"
      },
      "source": [
        "!kaggle competitions download -c cap-4611-spring-21-assignment-3"
      ],
      "execution_count": null,
      "outputs": [
        {
          "output_type": "stream",
          "text": [
            "Warning: Looks like you're using an outdated API Version, please consider updating (server 1.5.10 / client 1.5.4)\n",
            "train.csv: Skipping, found more recently modified local copy (use --force to force download)\n",
            "sample_submission.csv: Skipping, found more recently modified local copy (use --force to force download)\n",
            "test.csv: Skipping, found more recently modified local copy (use --force to force download)\n"
          ],
          "name": "stdout"
        }
      ]
    },
    {
      "cell_type": "code",
      "metadata": {
        "id": "f2I0DZ2eK9Tr"
      },
      "source": [
        "import numpy as np \n",
        "import pandas as pd \n",
        "from sklearn import metrics\n",
        "from sklearn.model_selection import train_test_split\n",
        "import seaborn as sns\n",
        "import matplotlib.pyplot as plt\n",
        "from sklearn import preprocessing\n",
        "from sklearn.model_selection import cross_val_score\n",
        "from sklearn.model_selection import GridSearchCV\n",
        "from sklearn.pipeline import make_pipeline\n",
        "from sklearn.pipeline import Pipeline\n",
        "from sklearn import naive_bayes\n",
        "from sklearn.preprocessing import PowerTransformer"
      ],
      "execution_count": null,
      "outputs": []
    },
    {
      "cell_type": "code",
      "metadata": {
        "colab": {
          "base_uri": "https://localhost:8080/",
          "height": 244
        },
        "id": "dITW_BTAL3kf",
        "outputId": "ec8eb93f-acd6-44a2-c04c-e1057cc4ce29"
      },
      "source": [
        "data = pd.read_csv(\"train.csv\")\n",
        "data.head()"
      ],
      "execution_count": null,
      "outputs": [
        {
          "output_type": "execute_result",
          "data": {
            "text/html": [
              "<div>\n",
              "<style scoped>\n",
              "    .dataframe tbody tr th:only-of-type {\n",
              "        vertical-align: middle;\n",
              "    }\n",
              "\n",
              "    .dataframe tbody tr th {\n",
              "        vertical-align: top;\n",
              "    }\n",
              "\n",
              "    .dataframe thead th {\n",
              "        text-align: right;\n",
              "    }\n",
              "</style>\n",
              "<table border=\"1\" class=\"dataframe\">\n",
              "  <thead>\n",
              "    <tr style=\"text-align: right;\">\n",
              "      <th></th>\n",
              "      <th>id</th>\n",
              "      <th>radius_mean</th>\n",
              "      <th>texture_mean</th>\n",
              "      <th>perimeter_mean</th>\n",
              "      <th>area_mean</th>\n",
              "      <th>smoothness_mean</th>\n",
              "      <th>compactness_mean</th>\n",
              "      <th>concavity_mean</th>\n",
              "      <th>concave points_mean</th>\n",
              "      <th>symmetry_mean</th>\n",
              "      <th>fractal_dimension_mean</th>\n",
              "      <th>radius_se</th>\n",
              "      <th>texture_se</th>\n",
              "      <th>perimeter_se</th>\n",
              "      <th>area_se</th>\n",
              "      <th>smoothness_se</th>\n",
              "      <th>compactness_se</th>\n",
              "      <th>concavity_se</th>\n",
              "      <th>concave points_se</th>\n",
              "      <th>symmetry_se</th>\n",
              "      <th>fractal_dimension_se</th>\n",
              "      <th>radius_worst</th>\n",
              "      <th>texture_worst</th>\n",
              "      <th>perimeter_worst</th>\n",
              "      <th>area_worst</th>\n",
              "      <th>smoothness_worst</th>\n",
              "      <th>compactness_worst</th>\n",
              "      <th>concavity_worst</th>\n",
              "      <th>concave points_worst</th>\n",
              "      <th>symmetry_worst</th>\n",
              "      <th>fractal_dimension_worst</th>\n",
              "      <th>diagnosis</th>\n",
              "    </tr>\n",
              "  </thead>\n",
              "  <tbody>\n",
              "    <tr>\n",
              "      <th>0</th>\n",
              "      <td>0</td>\n",
              "      <td>14.48</td>\n",
              "      <td>21.46</td>\n",
              "      <td>94.25</td>\n",
              "      <td>648.2</td>\n",
              "      <td>0.09444</td>\n",
              "      <td>0.09947</td>\n",
              "      <td>0.120400</td>\n",
              "      <td>0.04938</td>\n",
              "      <td>0.2075</td>\n",
              "      <td>0.05636</td>\n",
              "      <td>0.4204</td>\n",
              "      <td>2.2200</td>\n",
              "      <td>3.301</td>\n",
              "      <td>38.87</td>\n",
              "      <td>0.009369</td>\n",
              "      <td>0.029830</td>\n",
              "      <td>0.05371</td>\n",
              "      <td>0.017610</td>\n",
              "      <td>0.02418</td>\n",
              "      <td>0.003249</td>\n",
              "      <td>16.21</td>\n",
              "      <td>29.25</td>\n",
              "      <td>108.40</td>\n",
              "      <td>808.9</td>\n",
              "      <td>0.1306</td>\n",
              "      <td>0.19760</td>\n",
              "      <td>0.33490</td>\n",
              "      <td>0.1225</td>\n",
              "      <td>0.3020</td>\n",
              "      <td>0.06846</td>\n",
              "      <td>1</td>\n",
              "    </tr>\n",
              "    <tr>\n",
              "      <th>1</th>\n",
              "      <td>1</td>\n",
              "      <td>14.92</td>\n",
              "      <td>14.93</td>\n",
              "      <td>96.45</td>\n",
              "      <td>686.9</td>\n",
              "      <td>0.08098</td>\n",
              "      <td>0.08549</td>\n",
              "      <td>0.055390</td>\n",
              "      <td>0.03221</td>\n",
              "      <td>0.1687</td>\n",
              "      <td>0.05669</td>\n",
              "      <td>0.2446</td>\n",
              "      <td>0.4334</td>\n",
              "      <td>1.826</td>\n",
              "      <td>23.31</td>\n",
              "      <td>0.003271</td>\n",
              "      <td>0.017700</td>\n",
              "      <td>0.02310</td>\n",
              "      <td>0.008399</td>\n",
              "      <td>0.01148</td>\n",
              "      <td>0.002379</td>\n",
              "      <td>17.18</td>\n",
              "      <td>18.22</td>\n",
              "      <td>112.00</td>\n",
              "      <td>906.6</td>\n",
              "      <td>0.1065</td>\n",
              "      <td>0.27910</td>\n",
              "      <td>0.31510</td>\n",
              "      <td>0.1147</td>\n",
              "      <td>0.2688</td>\n",
              "      <td>0.08273</td>\n",
              "      <td>0</td>\n",
              "    </tr>\n",
              "    <tr>\n",
              "      <th>2</th>\n",
              "      <td>2</td>\n",
              "      <td>12.81</td>\n",
              "      <td>13.06</td>\n",
              "      <td>81.29</td>\n",
              "      <td>508.8</td>\n",
              "      <td>0.08739</td>\n",
              "      <td>0.03774</td>\n",
              "      <td>0.009193</td>\n",
              "      <td>0.01330</td>\n",
              "      <td>0.1466</td>\n",
              "      <td>0.06133</td>\n",
              "      <td>0.2889</td>\n",
              "      <td>0.9899</td>\n",
              "      <td>1.778</td>\n",
              "      <td>21.79</td>\n",
              "      <td>0.008534</td>\n",
              "      <td>0.006364</td>\n",
              "      <td>0.00618</td>\n",
              "      <td>0.007408</td>\n",
              "      <td>0.01065</td>\n",
              "      <td>0.003351</td>\n",
              "      <td>13.63</td>\n",
              "      <td>16.15</td>\n",
              "      <td>86.70</td>\n",
              "      <td>570.7</td>\n",
              "      <td>0.1162</td>\n",
              "      <td>0.05445</td>\n",
              "      <td>0.02758</td>\n",
              "      <td>0.0399</td>\n",
              "      <td>0.1783</td>\n",
              "      <td>0.07319</td>\n",
              "      <td>0</td>\n",
              "    </tr>\n",
              "    <tr>\n",
              "      <th>3</th>\n",
              "      <td>3</td>\n",
              "      <td>13.20</td>\n",
              "      <td>17.43</td>\n",
              "      <td>84.13</td>\n",
              "      <td>541.6</td>\n",
              "      <td>0.07215</td>\n",
              "      <td>0.04524</td>\n",
              "      <td>0.043360</td>\n",
              "      <td>0.01105</td>\n",
              "      <td>0.1487</td>\n",
              "      <td>0.05635</td>\n",
              "      <td>0.1630</td>\n",
              "      <td>1.6010</td>\n",
              "      <td>0.873</td>\n",
              "      <td>13.56</td>\n",
              "      <td>0.006261</td>\n",
              "      <td>0.015690</td>\n",
              "      <td>0.03079</td>\n",
              "      <td>0.005383</td>\n",
              "      <td>0.01962</td>\n",
              "      <td>0.002250</td>\n",
              "      <td>13.94</td>\n",
              "      <td>27.82</td>\n",
              "      <td>88.28</td>\n",
              "      <td>602.0</td>\n",
              "      <td>0.1101</td>\n",
              "      <td>0.15080</td>\n",
              "      <td>0.22980</td>\n",
              "      <td>0.0497</td>\n",
              "      <td>0.2767</td>\n",
              "      <td>0.07198</td>\n",
              "      <td>0</td>\n",
              "    </tr>\n",
              "    <tr>\n",
              "      <th>4</th>\n",
              "      <td>4</td>\n",
              "      <td>12.47</td>\n",
              "      <td>17.31</td>\n",
              "      <td>80.45</td>\n",
              "      <td>480.1</td>\n",
              "      <td>0.08928</td>\n",
              "      <td>0.07630</td>\n",
              "      <td>0.036090</td>\n",
              "      <td>0.02369</td>\n",
              "      <td>0.1526</td>\n",
              "      <td>0.06046</td>\n",
              "      <td>0.1532</td>\n",
              "      <td>0.7810</td>\n",
              "      <td>1.253</td>\n",
              "      <td>11.91</td>\n",
              "      <td>0.003796</td>\n",
              "      <td>0.013710</td>\n",
              "      <td>0.01346</td>\n",
              "      <td>0.007096</td>\n",
              "      <td>0.01536</td>\n",
              "      <td>0.001541</td>\n",
              "      <td>14.06</td>\n",
              "      <td>24.34</td>\n",
              "      <td>92.82</td>\n",
              "      <td>607.3</td>\n",
              "      <td>0.1276</td>\n",
              "      <td>0.25060</td>\n",
              "      <td>0.20280</td>\n",
              "      <td>0.1053</td>\n",
              "      <td>0.3035</td>\n",
              "      <td>0.07661</td>\n",
              "      <td>0</td>\n",
              "    </tr>\n",
              "  </tbody>\n",
              "</table>\n",
              "</div>"
            ],
            "text/plain": [
              "   id  radius_mean  ...  fractal_dimension_worst  diagnosis\n",
              "0   0        14.48  ...                  0.06846          1\n",
              "1   1        14.92  ...                  0.08273          0\n",
              "2   2        12.81  ...                  0.07319          0\n",
              "3   3        13.20  ...                  0.07198          0\n",
              "4   4        12.47  ...                  0.07661          0\n",
              "\n",
              "[5 rows x 32 columns]"
            ]
          },
          "metadata": {
            "tags": []
          },
          "execution_count": 8
        }
      ]
    },
    {
      "cell_type": "code",
      "metadata": {
        "colab": {
          "base_uri": "https://localhost:8080/",
          "height": 338
        },
        "id": "P84iWb4MOVrk",
        "outputId": "063e744d-a9f1-49fc-af0c-4edb862b6940"
      },
      "source": [
        "data.describe()"
      ],
      "execution_count": null,
      "outputs": [
        {
          "output_type": "execute_result",
          "data": {
            "text/html": [
              "<div>\n",
              "<style scoped>\n",
              "    .dataframe tbody tr th:only-of-type {\n",
              "        vertical-align: middle;\n",
              "    }\n",
              "\n",
              "    .dataframe tbody tr th {\n",
              "        vertical-align: top;\n",
              "    }\n",
              "\n",
              "    .dataframe thead th {\n",
              "        text-align: right;\n",
              "    }\n",
              "</style>\n",
              "<table border=\"1\" class=\"dataframe\">\n",
              "  <thead>\n",
              "    <tr style=\"text-align: right;\">\n",
              "      <th></th>\n",
              "      <th>id</th>\n",
              "      <th>radius_mean</th>\n",
              "      <th>texture_mean</th>\n",
              "      <th>perimeter_mean</th>\n",
              "      <th>area_mean</th>\n",
              "      <th>smoothness_mean</th>\n",
              "      <th>compactness_mean</th>\n",
              "      <th>concavity_mean</th>\n",
              "      <th>concave points_mean</th>\n",
              "      <th>symmetry_mean</th>\n",
              "      <th>fractal_dimension_mean</th>\n",
              "      <th>radius_se</th>\n",
              "      <th>texture_se</th>\n",
              "      <th>perimeter_se</th>\n",
              "      <th>area_se</th>\n",
              "      <th>smoothness_se</th>\n",
              "      <th>compactness_se</th>\n",
              "      <th>concavity_se</th>\n",
              "      <th>concave points_se</th>\n",
              "      <th>symmetry_se</th>\n",
              "      <th>fractal_dimension_se</th>\n",
              "      <th>radius_worst</th>\n",
              "      <th>texture_worst</th>\n",
              "      <th>perimeter_worst</th>\n",
              "      <th>area_worst</th>\n",
              "      <th>smoothness_worst</th>\n",
              "      <th>compactness_worst</th>\n",
              "      <th>concavity_worst</th>\n",
              "      <th>concave points_worst</th>\n",
              "      <th>symmetry_worst</th>\n",
              "      <th>fractal_dimension_worst</th>\n",
              "      <th>diagnosis</th>\n",
              "    </tr>\n",
              "  </thead>\n",
              "  <tbody>\n",
              "    <tr>\n",
              "      <th>count</th>\n",
              "      <td>284.000000</td>\n",
              "      <td>284.000000</td>\n",
              "      <td>284.000000</td>\n",
              "      <td>284.00000</td>\n",
              "      <td>284.000000</td>\n",
              "      <td>284.000000</td>\n",
              "      <td>284.000000</td>\n",
              "      <td>284.000000</td>\n",
              "      <td>284.000000</td>\n",
              "      <td>284.000000</td>\n",
              "      <td>284.000000</td>\n",
              "      <td>284.000000</td>\n",
              "      <td>284.000000</td>\n",
              "      <td>284.000000</td>\n",
              "      <td>284.000000</td>\n",
              "      <td>284.000000</td>\n",
              "      <td>284.000000</td>\n",
              "      <td>284.000000</td>\n",
              "      <td>284.000000</td>\n",
              "      <td>284.000000</td>\n",
              "      <td>284.000000</td>\n",
              "      <td>284.000000</td>\n",
              "      <td>284.000000</td>\n",
              "      <td>284.000000</td>\n",
              "      <td>284.000000</td>\n",
              "      <td>284.000000</td>\n",
              "      <td>284.000000</td>\n",
              "      <td>284.000000</td>\n",
              "      <td>284.000000</td>\n",
              "      <td>284.000000</td>\n",
              "      <td>284.000000</td>\n",
              "      <td>284.000000</td>\n",
              "    </tr>\n",
              "    <tr>\n",
              "      <th>mean</th>\n",
              "      <td>141.500000</td>\n",
              "      <td>14.133384</td>\n",
              "      <td>19.354824</td>\n",
              "      <td>91.96331</td>\n",
              "      <td>656.370423</td>\n",
              "      <td>0.095307</td>\n",
              "      <td>0.102288</td>\n",
              "      <td>0.088245</td>\n",
              "      <td>0.047708</td>\n",
              "      <td>0.180214</td>\n",
              "      <td>0.062251</td>\n",
              "      <td>0.395850</td>\n",
              "      <td>1.221463</td>\n",
              "      <td>2.799136</td>\n",
              "      <td>38.974380</td>\n",
              "      <td>0.007036</td>\n",
              "      <td>0.025967</td>\n",
              "      <td>0.033004</td>\n",
              "      <td>0.011738</td>\n",
              "      <td>0.020623</td>\n",
              "      <td>0.003875</td>\n",
              "      <td>16.248229</td>\n",
              "      <td>25.865739</td>\n",
              "      <td>107.215493</td>\n",
              "      <td>880.827817</td>\n",
              "      <td>0.130850</td>\n",
              "      <td>0.252964</td>\n",
              "      <td>0.276384</td>\n",
              "      <td>0.113469</td>\n",
              "      <td>0.288513</td>\n",
              "      <td>0.083050</td>\n",
              "      <td>0.373239</td>\n",
              "    </tr>\n",
              "    <tr>\n",
              "      <th>std</th>\n",
              "      <td>82.127949</td>\n",
              "      <td>3.557272</td>\n",
              "      <td>4.308783</td>\n",
              "      <td>24.44977</td>\n",
              "      <td>353.886842</td>\n",
              "      <td>0.014372</td>\n",
              "      <td>0.050656</td>\n",
              "      <td>0.079657</td>\n",
              "      <td>0.038772</td>\n",
              "      <td>0.026448</td>\n",
              "      <td>0.007089</td>\n",
              "      <td>0.237095</td>\n",
              "      <td>0.534399</td>\n",
              "      <td>1.676412</td>\n",
              "      <td>36.551638</td>\n",
              "      <td>0.003142</td>\n",
              "      <td>0.018662</td>\n",
              "      <td>0.035852</td>\n",
              "      <td>0.006575</td>\n",
              "      <td>0.008063</td>\n",
              "      <td>0.003137</td>\n",
              "      <td>4.883497</td>\n",
              "      <td>6.152410</td>\n",
              "      <td>34.022758</td>\n",
              "      <td>580.281025</td>\n",
              "      <td>0.022626</td>\n",
              "      <td>0.159129</td>\n",
              "      <td>0.217757</td>\n",
              "      <td>0.066945</td>\n",
              "      <td>0.058428</td>\n",
              "      <td>0.018022</td>\n",
              "      <td>0.484519</td>\n",
              "    </tr>\n",
              "    <tr>\n",
              "      <th>min</th>\n",
              "      <td>0.000000</td>\n",
              "      <td>6.981000</td>\n",
              "      <td>9.710000</td>\n",
              "      <td>43.79000</td>\n",
              "      <td>143.500000</td>\n",
              "      <td>0.062510</td>\n",
              "      <td>0.019380</td>\n",
              "      <td>0.000000</td>\n",
              "      <td>0.000000</td>\n",
              "      <td>0.106000</td>\n",
              "      <td>0.049960</td>\n",
              "      <td>0.114400</td>\n",
              "      <td>0.406400</td>\n",
              "      <td>0.771400</td>\n",
              "      <td>6.802000</td>\n",
              "      <td>0.002838</td>\n",
              "      <td>0.002252</td>\n",
              "      <td>0.000000</td>\n",
              "      <td>0.000000</td>\n",
              "      <td>0.010290</td>\n",
              "      <td>0.000895</td>\n",
              "      <td>7.930000</td>\n",
              "      <td>12.020000</td>\n",
              "      <td>50.410000</td>\n",
              "      <td>185.200000</td>\n",
              "      <td>0.081250</td>\n",
              "      <td>0.034320</td>\n",
              "      <td>0.000000</td>\n",
              "      <td>0.000000</td>\n",
              "      <td>0.156600</td>\n",
              "      <td>0.055210</td>\n",
              "      <td>0.000000</td>\n",
              "    </tr>\n",
              "    <tr>\n",
              "      <th>25%</th>\n",
              "      <td>70.750000</td>\n",
              "      <td>11.807500</td>\n",
              "      <td>16.060000</td>\n",
              "      <td>76.09750</td>\n",
              "      <td>428.675000</td>\n",
              "      <td>0.084668</td>\n",
              "      <td>0.062740</td>\n",
              "      <td>0.029640</td>\n",
              "      <td>0.019603</td>\n",
              "      <td>0.161775</td>\n",
              "      <td>0.057068</td>\n",
              "      <td>0.236450</td>\n",
              "      <td>0.856775</td>\n",
              "      <td>1.667000</td>\n",
              "      <td>17.967500</td>\n",
              "      <td>0.005298</td>\n",
              "      <td>0.012828</td>\n",
              "      <td>0.015030</td>\n",
              "      <td>0.007482</td>\n",
              "      <td>0.015017</td>\n",
              "      <td>0.002225</td>\n",
              "      <td>12.977500</td>\n",
              "      <td>21.382500</td>\n",
              "      <td>83.722500</td>\n",
              "      <td>512.450000</td>\n",
              "      <td>0.114300</td>\n",
              "      <td>0.145325</td>\n",
              "      <td>0.118475</td>\n",
              "      <td>0.062563</td>\n",
              "      <td>0.250300</td>\n",
              "      <td>0.071145</td>\n",
              "      <td>0.000000</td>\n",
              "    </tr>\n",
              "    <tr>\n",
              "      <th>50%</th>\n",
              "      <td>141.500000</td>\n",
              "      <td>13.205000</td>\n",
              "      <td>18.945000</td>\n",
              "      <td>85.25000</td>\n",
              "      <td>540.250000</td>\n",
              "      <td>0.094155</td>\n",
              "      <td>0.093435</td>\n",
              "      <td>0.061745</td>\n",
              "      <td>0.033025</td>\n",
              "      <td>0.178300</td>\n",
              "      <td>0.061115</td>\n",
              "      <td>0.327500</td>\n",
              "      <td>1.094000</td>\n",
              "      <td>2.330000</td>\n",
              "      <td>24.950000</td>\n",
              "      <td>0.006302</td>\n",
              "      <td>0.020625</td>\n",
              "      <td>0.026245</td>\n",
              "      <td>0.010850</td>\n",
              "      <td>0.019030</td>\n",
              "      <td>0.003044</td>\n",
              "      <td>14.995000</td>\n",
              "      <td>25.580000</td>\n",
              "      <td>97.665000</td>\n",
              "      <td>683.600000</td>\n",
              "      <td>0.129450</td>\n",
              "      <td>0.211600</td>\n",
              "      <td>0.229800</td>\n",
              "      <td>0.097355</td>\n",
              "      <td>0.280950</td>\n",
              "      <td>0.078650</td>\n",
              "      <td>0.000000</td>\n",
              "    </tr>\n",
              "    <tr>\n",
              "      <th>75%</th>\n",
              "      <td>212.250000</td>\n",
              "      <td>16.132500</td>\n",
              "      <td>21.825000</td>\n",
              "      <td>106.45000</td>\n",
              "      <td>799.100000</td>\n",
              "      <td>0.104825</td>\n",
              "      <td>0.127975</td>\n",
              "      <td>0.127700</td>\n",
              "      <td>0.070468</td>\n",
              "      <td>0.194425</td>\n",
              "      <td>0.065410</td>\n",
              "      <td>0.476050</td>\n",
              "      <td>1.478500</td>\n",
              "      <td>3.274000</td>\n",
              "      <td>44.467500</td>\n",
              "      <td>0.007989</td>\n",
              "      <td>0.033247</td>\n",
              "      <td>0.040697</td>\n",
              "      <td>0.014672</td>\n",
              "      <td>0.024202</td>\n",
              "      <td>0.004328</td>\n",
              "      <td>18.247500</td>\n",
              "      <td>30.127500</td>\n",
              "      <td>124.475000</td>\n",
              "      <td>1031.250000</td>\n",
              "      <td>0.144550</td>\n",
              "      <td>0.321725</td>\n",
              "      <td>0.386550</td>\n",
              "      <td>0.162925</td>\n",
              "      <td>0.311575</td>\n",
              "      <td>0.091482</td>\n",
              "      <td>1.000000</td>\n",
              "    </tr>\n",
              "    <tr>\n",
              "      <th>max</th>\n",
              "      <td>283.000000</td>\n",
              "      <td>27.220000</td>\n",
              "      <td>32.470000</td>\n",
              "      <td>182.10000</td>\n",
              "      <td>2250.000000</td>\n",
              "      <td>0.163400</td>\n",
              "      <td>0.286700</td>\n",
              "      <td>0.426800</td>\n",
              "      <td>0.201200</td>\n",
              "      <td>0.274300</td>\n",
              "      <td>0.095020</td>\n",
              "      <td>1.509000</td>\n",
              "      <td>3.896000</td>\n",
              "      <td>9.807000</td>\n",
              "      <td>233.000000</td>\n",
              "      <td>0.031130</td>\n",
              "      <td>0.106400</td>\n",
              "      <td>0.396000</td>\n",
              "      <td>0.052790</td>\n",
              "      <td>0.061460</td>\n",
              "      <td>0.029840</td>\n",
              "      <td>33.130000</td>\n",
              "      <td>47.160000</td>\n",
              "      <td>229.300000</td>\n",
              "      <td>3432.000000</td>\n",
              "      <td>0.218400</td>\n",
              "      <td>1.058000</td>\n",
              "      <td>1.252000</td>\n",
              "      <td>0.286700</td>\n",
              "      <td>0.577400</td>\n",
              "      <td>0.207500</td>\n",
              "      <td>1.000000</td>\n",
              "    </tr>\n",
              "  </tbody>\n",
              "</table>\n",
              "</div>"
            ],
            "text/plain": [
              "               id  radius_mean  ...  fractal_dimension_worst   diagnosis\n",
              "count  284.000000   284.000000  ...               284.000000  284.000000\n",
              "mean   141.500000    14.133384  ...                 0.083050    0.373239\n",
              "std     82.127949     3.557272  ...                 0.018022    0.484519\n",
              "min      0.000000     6.981000  ...                 0.055210    0.000000\n",
              "25%     70.750000    11.807500  ...                 0.071145    0.000000\n",
              "50%    141.500000    13.205000  ...                 0.078650    0.000000\n",
              "75%    212.250000    16.132500  ...                 0.091482    1.000000\n",
              "max    283.000000    27.220000  ...                 0.207500    1.000000\n",
              "\n",
              "[8 rows x 32 columns]"
            ]
          },
          "metadata": {
            "tags": []
          },
          "execution_count": 9
        }
      ]
    },
    {
      "cell_type": "code",
      "metadata": {
        "colab": {
          "base_uri": "https://localhost:8080/"
        },
        "id": "TSq0Ky1lObhO",
        "outputId": "8ed220b4-7e6a-4895-92b3-ca43aeb25f30"
      },
      "source": [
        "data.info()"
      ],
      "execution_count": null,
      "outputs": [
        {
          "output_type": "stream",
          "text": [
            "<class 'pandas.core.frame.DataFrame'>\n",
            "RangeIndex: 284 entries, 0 to 283\n",
            "Data columns (total 32 columns):\n",
            " #   Column                   Non-Null Count  Dtype  \n",
            "---  ------                   --------------  -----  \n",
            " 0   id                       284 non-null    int64  \n",
            " 1   radius_mean              284 non-null    float64\n",
            " 2   texture_mean             284 non-null    float64\n",
            " 3   perimeter_mean           284 non-null    float64\n",
            " 4   area_mean                284 non-null    float64\n",
            " 5   smoothness_mean          284 non-null    float64\n",
            " 6   compactness_mean         284 non-null    float64\n",
            " 7   concavity_mean           284 non-null    float64\n",
            " 8   concave points_mean      284 non-null    float64\n",
            " 9   symmetry_mean            284 non-null    float64\n",
            " 10  fractal_dimension_mean   284 non-null    float64\n",
            " 11  radius_se                284 non-null    float64\n",
            " 12  texture_se               284 non-null    float64\n",
            " 13  perimeter_se             284 non-null    float64\n",
            " 14  area_se                  284 non-null    float64\n",
            " 15  smoothness_se            284 non-null    float64\n",
            " 16  compactness_se           284 non-null    float64\n",
            " 17  concavity_se             284 non-null    float64\n",
            " 18  concave points_se        284 non-null    float64\n",
            " 19  symmetry_se              284 non-null    float64\n",
            " 20  fractal_dimension_se     284 non-null    float64\n",
            " 21  radius_worst             284 non-null    float64\n",
            " 22  texture_worst            284 non-null    float64\n",
            " 23  perimeter_worst          284 non-null    float64\n",
            " 24  area_worst               284 non-null    float64\n",
            " 25  smoothness_worst         284 non-null    float64\n",
            " 26  compactness_worst        284 non-null    float64\n",
            " 27  concavity_worst          284 non-null    float64\n",
            " 28  concave points_worst     284 non-null    float64\n",
            " 29  symmetry_worst           284 non-null    float64\n",
            " 30  fractal_dimension_worst  284 non-null    float64\n",
            " 31  diagnosis                284 non-null    int64  \n",
            "dtypes: float64(30), int64(2)\n",
            "memory usage: 71.1 KB\n"
          ],
          "name": "stdout"
        }
      ]
    },
    {
      "cell_type": "code",
      "metadata": {
        "colab": {
          "base_uri": "https://localhost:8080/",
          "height": 450
        },
        "id": "f8-8qdkqOcqZ",
        "outputId": "ca7aba96-4843-4def-ba96-9479468f3711"
      },
      "source": [
        "data.loc[:,].boxplot(figsize=(10,5), rot=90)"
      ],
      "execution_count": null,
      "outputs": [
        {
          "output_type": "execute_result",
          "data": {
            "text/plain": [
              "<matplotlib.axes._subplots.AxesSubplot at 0x7ff9f045f590>"
            ]
          },
          "metadata": {
            "tags": []
          },
          "execution_count": 53
        },
        {
          "output_type": "display_data",
          "data": {
            "image/png": "[encoded data removed]",
            "text/plain": [
              "<Figure size 720x360 with 1 Axes>"
            ]
          },
          "metadata": {
            "tags": [],
            "needs_background": "light"
          }
        }
      ]
    },
    {
      "cell_type": "code",
      "metadata": {
        "colab": {
          "base_uri": "https://localhost:8080/",
          "height": 450
        },
        "id": "9pAb-8ejT-2m",
        "outputId": "8dd70706-974b-408e-e49a-a9a291d3ccdd"
      },
      "source": [
        "data.loc[:, data.columns[data.max() <= 1].to_list()].boxplot(figsize=(10,5), rot=90)"
      ],
      "execution_count": null,
      "outputs": [
        {
          "output_type": "execute_result",
          "data": {
            "text/plain": [
              "<matplotlib.axes._subplots.AxesSubplot at 0x7fa1f471d750>"
            ]
          },
          "metadata": {
            "tags": []
          },
          "execution_count": 23
        },
        {
          "output_type": "display_data",
          "data": {
            "image/png": "[encoded data removed]",
            "text/plain": [
              "<Figure size 720x360 with 1 Axes>"
            ]
          },
          "metadata": {
            "tags": [],
            "needs_background": "light"
          }
        }
      ]
    },
    {
      "cell_type": "code",
      "metadata": {
        "colab": {
          "base_uri": "https://localhost:8080/",
          "height": 426
        },
        "id": "IoGoCF8NT_dV",
        "outputId": "cc43e7a7-d788-4dd5-c79f-d5ff48dc82d0"
      },
      "source": [
        "data.loc[:, data.columns[data.max() > 1].to_list()].boxplot(figsize=(10,5), rot=90)"
      ],
      "execution_count": null,
      "outputs": [
        {
          "output_type": "execute_result",
          "data": {
            "text/plain": [
              "<matplotlib.axes._subplots.AxesSubplot at 0x7fa1f4711110>"
            ]
          },
          "metadata": {
            "tags": []
          },
          "execution_count": 24
        },
        {
          "output_type": "display_data",
          "data": {
            "image/png": "[encoded data removed]",
            "text/plain": [
              "<Figure size 720x360 with 1 Axes>"
            ]
          },
          "metadata": {
            "tags": [],
            "needs_background": "light"
          }
        }
      ]
    },
    {
      "cell_type": "markdown",
      "metadata": {
        "id": "pLSRqyVjUSZB"
      },
      "source": [
        "While there are outliers in this data they are fairly clustered thus probably valid data. Looking at the breakdown between values greater than 1 and those less than 1 we can see there is a good number of each thus some standardization may need to occur."
      ]
    },
    {
      "cell_type": "code",
      "metadata": {
        "id": "-yzzttmGQTMu"
      },
      "source": [
        "features = data.columns[1:-1]\n",
        "target = data.columns[-1]\n",
        "\n",
        "X = data.loc[:, features]\n",
        "y = data.loc[:, target]"
      ],
      "execution_count": null,
      "outputs": []
    },
    {
      "cell_type": "code",
      "metadata": {
        "id": "z9auKnAjQggD"
      },
      "source": [
        "X_train, X_test, y_train, y_test = train_test_split(X, y, test_size = 0.25, shuffle=True, stratify=y)"
      ],
      "execution_count": null,
      "outputs": []
    },
    {
      "cell_type": "code",
      "metadata": {
        "colab": {
          "base_uri": "https://localhost:8080/"
        },
        "id": "PdM1xsY9VPmy",
        "outputId": "e102f4d6-22b8-472a-de59-37684d9964d2"
      },
      "source": [
        "# show balance of data in set\n",
        "len(data[data['diagnosis']== 1])/len(data), len(data[data['diagnosis']== 0])/len(data)"
      ],
      "execution_count": null,
      "outputs": [
        {
          "output_type": "execute_result",
          "data": {
            "text/plain": [
              "(0.3732394366197183, 0.6267605633802817)"
            ]
          },
          "metadata": {
            "tags": []
          },
          "execution_count": 16
        }
      ]
    },
    {
      "cell_type": "markdown",
      "metadata": {
        "id": "ES77PU_pMba_"
      },
      "source": [
        "Of the five Naive Bayes models, Guassian is the only one not geared directly towards discrete values. Since that data in this set is not discrete, it would not make since to try the other 4.\n"
      ]
    },
    {
      "cell_type": "markdown",
      "metadata": {
        "id": "xmIVpyNTUrub"
      },
      "source": [
        "Additional Standardization is not needed for Bayes since there is not reliance on distance. Adding in a MinMax Scaler or Standard Scaler has almsot not affect on the model."
      ]
    },
    {
      "cell_type": "code",
      "metadata": {
        "colab": {
          "base_uri": "https://localhost:8080/",
          "height": 606
        },
        "id": "J7m7ElilRGTT",
        "outputId": "e53e2be1-0d25-47a8-dc9a-3dd3f9063b2c"
      },
      "source": [
        "def modelGBase(X, y):\n",
        "  roc = []\n",
        "  f1 = []\n",
        "  accu =[]\n",
        "  roc_test = []\n",
        "  f1_test = []\n",
        "  accu_test =[]\n",
        "\n",
        "  for i in range(200):\n",
        "    X_train, X_test, y_train, y_test = train_test_split(X, y, test_size = 0.25, shuffle=True, stratify=y)\n",
        "\n",
        "    model = make_pipeline(naive_bayes.GaussianNB())\n",
        "    model.fit(X_train,y_train)\n",
        "\n",
        "    prediction_test = model.predict(X_test)\n",
        "    prob_prediction_test = model.predict_proba(X_test)[:,1]\n",
        "\n",
        "    roc_test.append(metrics.roc_auc_score(y_test, prob_prediction_test))\n",
        "    f1_test.append(metrics.f1_score(y_test, prediction_test))\n",
        "    accu_test.append(metrics.accuracy_score(y_test, prediction_test))\n",
        "\n",
        "    prediction = model.predict(X_train)\n",
        "    prob_prediction = model.predict_proba(X_train)[:,1]\n",
        "\n",
        "    roc.append(metrics.roc_auc_score(y_train, prob_prediction))\n",
        "    f1.append(metrics.f1_score(y_train, prediction))\n",
        "    accu.append(metrics.accuracy_score(y_train, prediction))\n",
        "\n",
        "  return pd.DataFrame({'f1_train': f1, 'accuracy_train':accu, 'roc_auc_train':roc, 'f1_test':f1_test, 'accuracy_test':accu_test, 'roc_auc_test':roc_test})\n",
        "\n",
        "scores = modelGBase(X, y)\n",
        "plt.figure(figsize=(15,10))\n",
        "for c in range(0, scores.shape[1]):\n",
        "  plt.subplot(2, 3, c+1)\n",
        "  sns.histplot(scores.iloc[:, c])"
      ],
      "execution_count": null,
      "outputs": [
        {
          "output_type": "display_data",
          "data": {
            "image/png": "[encoded data removed]",
            "text/plain": [
              "<Figure size 1080x720 with 6 Axes>"
            ]
          },
          "metadata": {
            "tags": [],
            "needs_background": "light"
          }
        }
      ]
    },
    {
      "cell_type": "markdown",
      "metadata": {
        "id": "mMjosGoTJVHQ"
      },
      "source": [
        "GaussianNB only really has one hyperparameter that can be done and it relates to how the smoothing will be done. "
      ]
    },
    {
      "cell_type": "code",
      "metadata": {
        "colab": {
          "base_uri": "https://localhost:8080/"
        },
        "id": "Pq_b_qGNladH",
        "outputId": "fdd642b0-dafd-41d3-f345-9a0ad1fce008"
      },
      "source": [
        "model = make_pipeline(naive_bayes.GaussianNB())\n",
        "\n",
        "params = {'gaussiannb__var_smoothing': np.logspace(0,-9, num=100)}\n",
        "model = GridSearchCV(model, param_grid=params, cv=10, scoring='f1')\n",
        "model = model.fit(X_train, y_train)\n",
        "\n",
        "model.best_estimator_, model.best_score_"
      ],
      "execution_count": null,
      "outputs": [
        {
          "output_type": "execute_result",
          "data": {
            "text/plain": [
              "(Pipeline(memory=None,\n",
              "          steps=[('gaussiannb', GaussianNB(priors=None, var_smoothing=1e-09))],\n",
              "          verbose=False), 0.8966666666666667)"
            ]
          },
          "metadata": {
            "tags": []
          },
          "execution_count": 24
        }
      ]
    },
    {
      "cell_type": "code",
      "metadata": {
        "id": "S4xcve3OW7EV"
      },
      "source": [
        "def modelDist(X, y, model):\n",
        "  roc = []\n",
        "  f1 = []\n",
        "  accu =[]\n",
        "  roc_test = []\n",
        "  f1_test = []\n",
        "  accu_test =[]\n",
        "\n",
        "  for i in range(200):\n",
        "    X_train, X_test, y_train, y_test = train_test_split(X, y, test_size = 0.25, shuffle=True, stratify=y)\n",
        "\n",
        "    model.fit(X_train,y_train)\n",
        "\n",
        "    prediction_test = model.predict(X_test)\n",
        "    prob_prediction_test = model.predict_proba(X_test)[:,1]\n",
        "\n",
        "    roc_test.append(metrics.roc_auc_score(y_test, prob_prediction_test))\n",
        "    f1_test.append(metrics.f1_score(y_test, prediction_test))\n",
        "    accu_test.append(metrics.accuracy_score(y_test, prediction_test))\n",
        "\n",
        "    prediction = model.predict(X_train)\n",
        "    prob_prediction = model.predict_proba(X_train)[:,1]\n",
        "\n",
        "    roc.append(metrics.roc_auc_score(y_train, prob_prediction))\n",
        "    f1.append(metrics.f1_score(y_train, prediction))\n",
        "    accu.append(metrics.accuracy_score(y_train, prediction))\n",
        "\n",
        "  return pd.DataFrame({'f1_train': f1, 'accuracy_train':accu, 'roc_auc_train':roc, 'f1_test':f1_test, 'accuracy_test':accu_test, 'roc_auc_test':roc_test})\n"
      ],
      "execution_count": null,
      "outputs": []
    },
    {
      "cell_type": "code",
      "metadata": {
        "colab": {
          "base_uri": "https://localhost:8080/",
          "height": 606
        },
        "id": "diSzQg0Dcx5l",
        "outputId": "df78187e-8eb5-4f52-8fb3-2152a092d23c"
      },
      "source": [
        "scores = modelDist(X, y, model.best_estimator_)\n",
        "plt.figure(figsize=(15,10))\n",
        "for c in range(0, scores.shape[1]):\n",
        "  plt.subplot(2, 3, c+1)\n",
        "  sns.histplot(scores.iloc[:, c])\n"
      ],
      "execution_count": null,
      "outputs": [
        {
          "output_type": "display_data",
          "data": {
            "image/png": "[encoded data removed]",
            "text/plain": [
              "<Figure size 1080x720 with 6 Axes>"
            ]
          },
          "metadata": {
            "tags": [],
            "needs_background": "light"
          }
        }
      ]
    },
    {
      "cell_type": "markdown",
      "metadata": {
        "id": "uq0afvVbacZt"
      },
      "source": [
        "While standarding/normalizing isn't needed for Bayes, having features in a guassian formation is important. PowerTransformer helps with this issue by transforming the features into a more gaussian shapes. Below is a model exactly like the one above except it has the PowerTransformer."
      ]
    },
    {
      "cell_type": "code",
      "metadata": {
        "colab": {
          "base_uri": "https://localhost:8080/"
        },
        "id": "aj7MJ2ZAZzNS",
        "outputId": "04a9bc46-98ed-49ea-dc7e-19f34f206ead"
      },
      "source": [
        "model2 = make_pipeline(PowerTransformer(), naive_bayes.GaussianNB())\n",
        "\n",
        "params = {'gaussiannb__var_smoothing': np.logspace(0,-9, num=100)}\n",
        "model2 = GridSearchCV(model2, param_grid=params, cv=10, scoring='f1')\n",
        "model2 = model2.fit(X_train, y_train)\n",
        "\n",
        "model2.best_estimator_, model2.best_score_"
      ],
      "execution_count": null,
      "outputs": [
        {
          "output_type": "execute_result",
          "data": {
            "text/plain": [
              "(Pipeline(memory=None,\n",
              "          steps=[('powertransformer',\n",
              "                  PowerTransformer(copy=True, method='yeo-johnson',\n",
              "                                   standardize=True)),\n",
              "                 ('gaussiannb',\n",
              "                  GaussianNB(priors=None, var_smoothing=0.08111308307896872))],\n",
              "          verbose=False), 0.9278991596638655)"
            ]
          },
          "metadata": {
            "tags": []
          },
          "execution_count": 49
        }
      ]
    },
    {
      "cell_type": "code",
      "metadata": {
        "colab": {
          "base_uri": "https://localhost:8080/",
          "height": 606
        },
        "id": "yxqjhYUQaCkw",
        "outputId": "28371eb6-14dd-4d72-a4c8-5e1a58c73b60"
      },
      "source": [
        "scores = modelDist(X, y, model2.best_estimator_)\n",
        "plt.figure(figsize=(15,10))\n",
        "for c in range(0, scores.shape[1]):\n",
        "  plt.subplot(2, 3, c+1)\n",
        "  sns.histplot(scores.iloc[:, c])"
      ],
      "execution_count": null,
      "outputs": [
        {
          "output_type": "display_data",
          "data": {
            "image/png": "[encoded data removed]",
            "text/plain": [
              "<Figure size 1080x720 with 6 Axes>"
            ]
          },
          "metadata": {
            "tags": [],
            "needs_background": "light"
          }
        }
      ]
    },
    {
      "cell_type": "markdown",
      "metadata": {
        "id": "BcRsGsxy-e5p"
      },
      "source": [
        "The model above with the PowerTransformer is the best model found so far!"
      ]
    },
    {
      "cell_type": "code",
      "metadata": {
        "id": "a5N-viURz114"
      },
      "source": [
        "test = pd.read_csv(\"test.csv\")\n",
        "\n",
        "featuresT = test.columns[1:]\n",
        "\n",
        "testX = test.loc[:, features]\n",
        "\n",
        "probTest = model2.predict(testX)\n",
        "\n",
        "output = pd.DataFrame({'id': test.id, 'diagnosis': probTest})\n",
        "output = output.astype(int)\n",
        "output.to_csv('my_submission.csv', index=False)\n"
      ],
      "execution_count": null,
      "outputs": []
    }
  ]
}